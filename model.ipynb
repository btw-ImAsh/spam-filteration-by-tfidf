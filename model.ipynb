{
 "cells": [
  {
   "cell_type": "code",
   "execution_count": 1,
   "id": "e60d6fb2",
   "metadata": {},
   "outputs": [],
   "source": [
    "import numpy as np\n",
    "import pandas as pd"
   ]
  },
  {
   "cell_type": "code",
   "execution_count": 2,
   "id": "7ca1bdab",
   "metadata": {},
   "outputs": [],
   "source": [
    "df = pd.read_csv('preprocessed_data.csv')"
   ]
  },
  {
   "cell_type": "code",
   "execution_count": 3,
   "id": "d841e95f",
   "metadata": {},
   "outputs": [
    {
     "data": {
      "text/plain": [
       "Unnamed: 0       0\n",
       "sms              3\n",
       "spam/ham_spam    0\n",
       "dtype: int64"
      ]
     },
     "execution_count": 3,
     "metadata": {},
     "output_type": "execute_result"
    }
   ],
   "source": [
    "df.isnull().sum()"
   ]
  },
  {
   "cell_type": "code",
   "execution_count": 4,
   "id": "845d19d3",
   "metadata": {},
   "outputs": [],
   "source": [
    "df.dropna(inplace=True)"
   ]
  },
  {
   "cell_type": "code",
   "execution_count": 5,
   "id": "3ac11160",
   "metadata": {},
   "outputs": [
    {
     "data": {
      "text/html": [
       "<div>\n",
       "<style scoped>\n",
       "    .dataframe tbody tr th:only-of-type {\n",
       "        vertical-align: middle;\n",
       "    }\n",
       "\n",
       "    .dataframe tbody tr th {\n",
       "        vertical-align: top;\n",
       "    }\n",
       "\n",
       "    .dataframe thead th {\n",
       "        text-align: right;\n",
       "    }\n",
       "</style>\n",
       "<table border=\"1\" class=\"dataframe\">\n",
       "  <thead>\n",
       "    <tr style=\"text-align: right;\">\n",
       "      <th></th>\n",
       "      <th>Unnamed: 0</th>\n",
       "      <th>sms</th>\n",
       "      <th>spam/ham_spam</th>\n",
       "    </tr>\n",
       "  </thead>\n",
       "  <tbody>\n",
       "    <tr>\n",
       "      <th>0</th>\n",
       "      <td>0</td>\n",
       "      <td>go until jurong point crazi avail onli in bugi...</td>\n",
       "      <td>0</td>\n",
       "    </tr>\n",
       "    <tr>\n",
       "      <th>1</th>\n",
       "      <td>1</td>\n",
       "      <td>ok lar joke wif u oni</td>\n",
       "      <td>0</td>\n",
       "    </tr>\n",
       "    <tr>\n",
       "      <th>2</th>\n",
       "      <td>2</td>\n",
       "      <td>free entri in a wkli comp to win fa cup final ...</td>\n",
       "      <td>1</td>\n",
       "    </tr>\n",
       "    <tr>\n",
       "      <th>3</th>\n",
       "      <td>3</td>\n",
       "      <td>u dun say so earli hor u c alreadi then say</td>\n",
       "      <td>0</td>\n",
       "    </tr>\n",
       "    <tr>\n",
       "      <th>4</th>\n",
       "      <td>4</td>\n",
       "      <td>nah i don t think he goe to usf he live around...</td>\n",
       "      <td>0</td>\n",
       "    </tr>\n",
       "  </tbody>\n",
       "</table>\n",
       "</div>"
      ],
      "text/plain": [
       "   Unnamed: 0                                                sms  \\\n",
       "0           0  go until jurong point crazi avail onli in bugi...   \n",
       "1           1                              ok lar joke wif u oni   \n",
       "2           2  free entri in a wkli comp to win fa cup final ...   \n",
       "3           3        u dun say so earli hor u c alreadi then say   \n",
       "4           4  nah i don t think he goe to usf he live around...   \n",
       "\n",
       "   spam/ham_spam  \n",
       "0              0  \n",
       "1              0  \n",
       "2              1  \n",
       "3              0  \n",
       "4              0  "
      ]
     },
     "execution_count": 5,
     "metadata": {},
     "output_type": "execute_result"
    }
   ],
   "source": [
    "df.head()"
   ]
  },
  {
   "cell_type": "code",
   "execution_count": 6,
   "id": "0cb03238",
   "metadata": {},
   "outputs": [
    {
     "data": {
      "text/html": [
       "<div>\n",
       "<style scoped>\n",
       "    .dataframe tbody tr th:only-of-type {\n",
       "        vertical-align: middle;\n",
       "    }\n",
       "\n",
       "    .dataframe tbody tr th {\n",
       "        vertical-align: top;\n",
       "    }\n",
       "\n",
       "    .dataframe thead th {\n",
       "        text-align: right;\n",
       "    }\n",
       "</style>\n",
       "<table border=\"1\" class=\"dataframe\">\n",
       "  <thead>\n",
       "    <tr style=\"text-align: right;\">\n",
       "      <th></th>\n",
       "      <th>index</th>\n",
       "      <th>Unnamed: 0</th>\n",
       "      <th>sms</th>\n",
       "      <th>spam/ham_spam</th>\n",
       "    </tr>\n",
       "  </thead>\n",
       "  <tbody>\n",
       "    <tr>\n",
       "      <th>0</th>\n",
       "      <td>0</td>\n",
       "      <td>0</td>\n",
       "      <td>go until jurong point crazi avail onli in bugi...</td>\n",
       "      <td>0</td>\n",
       "    </tr>\n",
       "    <tr>\n",
       "      <th>1</th>\n",
       "      <td>1</td>\n",
       "      <td>1</td>\n",
       "      <td>ok lar joke wif u oni</td>\n",
       "      <td>0</td>\n",
       "    </tr>\n",
       "    <tr>\n",
       "      <th>2</th>\n",
       "      <td>2</td>\n",
       "      <td>2</td>\n",
       "      <td>free entri in a wkli comp to win fa cup final ...</td>\n",
       "      <td>1</td>\n",
       "    </tr>\n",
       "    <tr>\n",
       "      <th>3</th>\n",
       "      <td>3</td>\n",
       "      <td>3</td>\n",
       "      <td>u dun say so earli hor u c alreadi then say</td>\n",
       "      <td>0</td>\n",
       "    </tr>\n",
       "    <tr>\n",
       "      <th>4</th>\n",
       "      <td>4</td>\n",
       "      <td>4</td>\n",
       "      <td>nah i don t think he goe to usf he live around...</td>\n",
       "      <td>0</td>\n",
       "    </tr>\n",
       "    <tr>\n",
       "      <th>...</th>\n",
       "      <td>...</td>\n",
       "      <td>...</td>\n",
       "      <td>...</td>\n",
       "      <td>...</td>\n",
       "    </tr>\n",
       "    <tr>\n",
       "      <th>5161</th>\n",
       "      <td>5164</td>\n",
       "      <td>5164</td>\n",
       "      <td>thi is the nd time we have tri contact u u hav...</td>\n",
       "      <td>1</td>\n",
       "    </tr>\n",
       "    <tr>\n",
       "      <th>5162</th>\n",
       "      <td>5165</td>\n",
       "      <td>5165</td>\n",
       "      <td>will b go to esplanad fr home</td>\n",
       "      <td>0</td>\n",
       "    </tr>\n",
       "    <tr>\n",
       "      <th>5163</th>\n",
       "      <td>5166</td>\n",
       "      <td>5166</td>\n",
       "      <td>piti wa in mood for that so ani other suggest</td>\n",
       "      <td>0</td>\n",
       "    </tr>\n",
       "    <tr>\n",
       "      <th>5164</th>\n",
       "      <td>5167</td>\n",
       "      <td>5167</td>\n",
       "      <td>the guy did some bitch but i act like i d be i...</td>\n",
       "      <td>0</td>\n",
       "    </tr>\n",
       "    <tr>\n",
       "      <th>5165</th>\n",
       "      <td>5168</td>\n",
       "      <td>5168</td>\n",
       "      <td>rofl it true to it name</td>\n",
       "      <td>0</td>\n",
       "    </tr>\n",
       "  </tbody>\n",
       "</table>\n",
       "<p>5166 rows × 4 columns</p>\n",
       "</div>"
      ],
      "text/plain": [
       "      index  Unnamed: 0                                                sms  \\\n",
       "0         0           0  go until jurong point crazi avail onli in bugi...   \n",
       "1         1           1                              ok lar joke wif u oni   \n",
       "2         2           2  free entri in a wkli comp to win fa cup final ...   \n",
       "3         3           3        u dun say so earli hor u c alreadi then say   \n",
       "4         4           4  nah i don t think he goe to usf he live around...   \n",
       "...     ...         ...                                                ...   \n",
       "5161   5164        5164  thi is the nd time we have tri contact u u hav...   \n",
       "5162   5165        5165                      will b go to esplanad fr home   \n",
       "5163   5166        5166      piti wa in mood for that so ani other suggest   \n",
       "5164   5167        5167  the guy did some bitch but i act like i d be i...   \n",
       "5165   5168        5168                            rofl it true to it name   \n",
       "\n",
       "      spam/ham_spam  \n",
       "0                 0  \n",
       "1                 0  \n",
       "2                 1  \n",
       "3                 0  \n",
       "4                 0  \n",
       "...             ...  \n",
       "5161              1  \n",
       "5162              0  \n",
       "5163              0  \n",
       "5164              0  \n",
       "5165              0  \n",
       "\n",
       "[5166 rows x 4 columns]"
      ]
     },
     "execution_count": 6,
     "metadata": {},
     "output_type": "execute_result"
    }
   ],
   "source": [
    "df.reset_index()"
   ]
  },
  {
   "cell_type": "code",
   "execution_count": 7,
   "id": "6911da24",
   "metadata": {},
   "outputs": [
    {
     "data": {
      "text/plain": [
       "0"
      ]
     },
     "execution_count": 7,
     "metadata": {},
     "output_type": "execute_result"
    }
   ],
   "source": [
    "df.duplicated().sum()"
   ]
  },
  {
   "cell_type": "code",
   "execution_count": 8,
   "id": "aa6931f9",
   "metadata": {},
   "outputs": [
    {
     "data": {
      "text/plain": [
       "spam/ham_spam\n",
       "0    4513\n",
       "1     653\n",
       "Name: count, dtype: int64"
      ]
     },
     "execution_count": 8,
     "metadata": {},
     "output_type": "execute_result"
    }
   ],
   "source": [
    "df['spam/ham_spam'].value_counts()"
   ]
  },
  {
   "cell_type": "code",
   "execution_count": 9,
   "id": "f8bca237",
   "metadata": {},
   "outputs": [],
   "source": [
    "from sklearn.feature_extraction.text import CountVectorizer, TfidfVectorizer\n",
    "cv= CountVectorizer(max_features=3000, stop_words='english')\n",
    "tfidf= TfidfVectorizer(max_features=3000)"
   ]
  },
  {
   "cell_type": "code",
   "execution_count": 10,
   "id": "48180da9",
   "metadata": {},
   "outputs": [],
   "source": [
    "X_cv = cv.fit_transform(df['sms']).toarray()"
   ]
  },
  {
   "cell_type": "code",
   "execution_count": 11,
   "id": "0c6478fe",
   "metadata": {},
   "outputs": [],
   "source": [
    "X_tfidf = tfidf.fit_transform(df['sms']).toarray()"
   ]
  },
  {
   "cell_type": "code",
   "execution_count": 12,
   "id": "faf30abd",
   "metadata": {},
   "outputs": [],
   "source": [
    "y=df['spam/ham_spam'].values"
   ]
  },
  {
   "cell_type": "code",
   "execution_count": 13,
   "id": "4dd1d540",
   "metadata": {},
   "outputs": [],
   "source": [
    "#TFIDF"
   ]
  },
  {
   "cell_type": "code",
   "execution_count": 14,
   "id": "499b4eb4",
   "metadata": {},
   "outputs": [],
   "source": [
    "from sklearn.model_selection import train_test_split\n",
    "X_tf_train, X_tf_test, y_tf_train, y_tf_test= train_test_split(X_tfidf, y, test_size=0.3, random_state=42)"
   ]
  },
  {
   "cell_type": "code",
   "execution_count": 15,
   "id": "71b8a115",
   "metadata": {},
   "outputs": [],
   "source": [
    "from sklearn.ensemble import RandomForestClassifier\n",
    "from sklearn.svm import SVC\n",
    "from sklearn.naive_bayes import BernoulliNB, GaussianNB, MultinomialNB\n",
    "from sklearn.metrics import accuracy_score, precision_score, confusion_matrix"
   ]
  },
  {
   "cell_type": "code",
   "execution_count": 16,
   "id": "edf6dff1",
   "metadata": {},
   "outputs": [],
   "source": [
    "rf= RandomForestClassifier()\n",
    "svm= SVC()\n",
    "mnb= MultinomialNB()\n",
    "gnb= GaussianNB()\n",
    "bnb= BernoulliNB()"
   ]
  },
  {
   "cell_type": "code",
   "execution_count": 17,
   "id": "66fd9c3e",
   "metadata": {},
   "outputs": [
    {
     "name": "stdout",
     "output_type": "stream",
     "text": [
      "0.9722580645161291\n",
      "1.0\n",
      "[[1344    0]\n",
      " [  43  163]]\n"
     ]
    }
   ],
   "source": [
    "mnb.fit(X_tf_train, y_tf_train)\n",
    "y_prid_mnb = mnb.predict(X_tf_test)\n",
    "print(accuracy_score(y_tf_test, y_prid_mnb))\n",
    "print(precision_score(y_tf_test, y_prid_mnb))\n",
    "print(confusion_matrix(y_tf_test,y_prid_mnb))"
   ]
  },
  {
   "cell_type": "code",
   "execution_count": 18,
   "id": "f70f9115",
   "metadata": {},
   "outputs": [
    {
     "name": "stdout",
     "output_type": "stream",
     "text": [
      "0.8812903225806452\n",
      "0.534375\n",
      "[[1195  149]\n",
      " [  35  171]]\n"
     ]
    }
   ],
   "source": [
    "gnb.fit(X_tf_train, y_tf_train)\n",
    "y_prid_gnb = gnb.predict(X_tf_test)\n",
    "print(accuracy_score(y_tf_test, y_prid_gnb))\n",
    "print(precision_score(y_tf_test, y_prid_gnb))\n",
    "print(confusion_matrix(y_tf_test,y_prid_gnb))"
   ]
  },
  {
   "cell_type": "code",
   "execution_count": 19,
   "id": "a0944106",
   "metadata": {},
   "outputs": [
    {
     "name": "stdout",
     "output_type": "stream",
     "text": [
      "0.9864516129032258\n",
      "0.9792746113989638\n",
      "[[1340    4]\n",
      " [  17  189]]\n"
     ]
    }
   ],
   "source": [
    "bnb.fit(X_tf_train, y_tf_train)\n",
    "y_prid_bnb = bnb.predict(X_tf_test)\n",
    "print(accuracy_score(y_tf_test, y_prid_bnb))\n",
    "print(precision_score(y_tf_test, y_prid_bnb))\n",
    "print(confusion_matrix(y_tf_test,y_prid_bnb))"
   ]
  },
  {
   "cell_type": "code",
   "execution_count": 20,
   "id": "8ffbca5f",
   "metadata": {},
   "outputs": [
    {
     "name": "stdout",
     "output_type": "stream",
     "text": [
      "0.9774193548387097\n",
      "0.9885714285714285\n",
      "[[1342    2]\n",
      " [  33  173]]\n"
     ]
    }
   ],
   "source": [
    "rf.fit(X_tf_train,y_tf_train)\n",
    "y_pred_rf = rf.predict(X_tf_test)\n",
    "print(accuracy_score(y_tf_test, y_pred_rf))\n",
    "print(precision_score(y_tf_test, y_pred_rf))\n",
    "print(confusion_matrix(y_tf_test,y_pred_rf))"
   ]
  },
  {
   "cell_type": "code",
   "execution_count": 21,
   "id": "bfbdfc44",
   "metadata": {},
   "outputs": [
    {
     "name": "stdout",
     "output_type": "stream",
     "text": [
      "0.9793548387096774\n",
      "0.9887640449438202\n",
      "[[1342    2]\n",
      " [  30  176]]\n"
     ]
    }
   ],
   "source": [
    "svm.fit(X_tf_train,y_tf_train)\n",
    "y_pred_svm = svm.predict(X_tf_test)\n",
    "print(accuracy_score(y_tf_test, y_pred_svm))\n",
    "print(precision_score(y_tf_test, y_pred_svm))\n",
    "print(confusion_matrix(y_tf_test,y_pred_svm))"
   ]
  },
  {
   "cell_type": "code",
   "execution_count": 170,
   "id": "dfed78f6",
   "metadata": {},
   "outputs": [],
   "source": [
    "#BOG"
   ]
  },
  {
   "cell_type": "code",
   "execution_count": 171,
   "id": "4f5744d7",
   "metadata": {},
   "outputs": [],
   "source": [
    "from sklearn.model_selection import train_test_split\n",
    "X_bow_train, X_bow_test, y_bow_train, y_bow_test= train_test_split(X_cv, y, test_size=0.3, random_state=42)"
   ]
  },
  {
   "cell_type": "code",
   "execution_count": 172,
   "id": "5a99be1f",
   "metadata": {},
   "outputs": [
    {
     "name": "stdout",
     "output_type": "stream",
     "text": [
      "0.9819354838709677\n",
      "0.9045454545454545\n",
      "[[1323   21]\n",
      " [   7  199]]\n"
     ]
    }
   ],
   "source": [
    "mnb.fit(X_bow_train, y_bow_train)\n",
    "y_prid_mnb_bow = mnb.predict(X_bow_test)\n",
    "print(accuracy_score(y_bow_test, y_prid_mnb_bow))\n",
    "print(precision_score(y_bow_test, y_prid_mnb_bow))\n",
    "print(confusion_matrix(y_bow_test,y_prid_mnb_bow))"
   ]
  },
  {
   "cell_type": "code",
   "execution_count": 173,
   "id": "c616e421",
   "metadata": {},
   "outputs": [
    {
     "name": "stdout",
     "output_type": "stream",
     "text": [
      "0.8722580645161291\n",
      "0.5115606936416185\n",
      "[[1175  169]\n",
      " [  29  177]]\n"
     ]
    }
   ],
   "source": [
    "gnb.fit(X_bow_train, y_bow_train)\n",
    "y_prid_gnb_bow = gnb.predict(X_bow_test)\n",
    "print(accuracy_score(y_bow_test, y_prid_gnb_bow))\n",
    "print(precision_score(y_bow_test, y_prid_gnb_bow))\n",
    "print(confusion_matrix(y_bow_test,y_prid_gnb_bow))"
   ]
  },
  {
   "cell_type": "code",
   "execution_count": 174,
   "id": "6231170f",
   "metadata": {},
   "outputs": [
    {
     "name": "stdout",
     "output_type": "stream",
     "text": [
      "0.983225806451613\n",
      "0.9787234042553191\n",
      "[[1340    4]\n",
      " [  22  184]]\n"
     ]
    }
   ],
   "source": [
    "bnb.fit(X_bow_train, y_bow_train)\n",
    "y_prid_bnb_bow = bnb.predict(X_bow_test)\n",
    "print(accuracy_score(y_bow_test, y_prid_bnb_bow))\n",
    "print(precision_score(y_bow_test, y_prid_bnb_bow))\n",
    "print(confusion_matrix(y_bow_test,y_prid_bnb_bow))"
   ]
  },
  {
   "cell_type": "code",
   "execution_count": 175,
   "id": "11b0d5e7",
   "metadata": {},
   "outputs": [
    {
     "name": "stdout",
     "output_type": "stream",
     "text": [
      "0.9774193548387097\n",
      "1.0\n",
      "[[1344    0]\n",
      " [  35  171]]\n"
     ]
    }
   ],
   "source": [
    "rf.fit(X_bow_train,y_bow_train)\n",
    "y_pred_bow_rf = rf.predict(X_bow_test)\n",
    "print(accuracy_score(y_bow_test, y_pred_bow_rf))\n",
    "print(precision_score(y_bow_test, y_pred_bow_rf))\n",
    "print(confusion_matrix(y_bow_test,y_pred_bow_rf))"
   ]
  },
  {
   "cell_type": "code",
   "execution_count": 176,
   "id": "0f0e5ef4",
   "metadata": {},
   "outputs": [
    {
     "name": "stdout",
     "output_type": "stream",
     "text": [
      "0.9793548387096774\n",
      "1.0\n",
      "[[1344    0]\n",
      " [  32  174]]\n"
     ]
    }
   ],
   "source": [
    "svm.fit(X_bow_train,y_bow_train)\n",
    "y_pred_bow_svm = svm.predict(X_bow_test)\n",
    "print(accuracy_score(y_bow_test, y_pred_bow_svm))\n",
    "print(precision_score(y_bow_test, y_pred_bow_svm))\n",
    "print(confusion_matrix(y_bow_test,y_pred_bow_svm))"
   ]
  },
  {
   "cell_type": "code",
   "execution_count": 177,
   "id": "7194a81b",
   "metadata": {},
   "outputs": [],
   "source": [
    "df={\n",
    "    \"Models\":[],\n",
    "    \"accuracy_score\":[],\n",
    "    \"precision_score\":[]\n",
    "}"
   ]
  },
  {
   "cell_type": "code",
   "execution_count": 178,
   "id": "2012fc94",
   "metadata": {},
   "outputs": [],
   "source": [
    "#TFIDF df\n",
    "model=['mnb', 'bnb', 'gnb', 'rf', 'svm']\n",
    "def performace(x, y):\n",
    "    models=[mnb, bnb, gnb, rf, svm]\n",
    "    X_train, X_test, y_train, y_test= train_test_split(x, y, test_size=0.3, random_state=42)\n",
    "    \n",
    "    for i in range(len(models)):\n",
    "        models[i].fit(X_train, y_train)\n",
    "        y_pred = models[i].predict(X_test)\n",
    "        accuracy = accuracy_score(y_test, y_pred)\n",
    "        precision = precision_score(y_test, y_pred)\n",
    "        df[\"Models\"].append(model[i])\n",
    "        df[\"accuracy_score\"].append(accuracy)\n",
    "        df[\"precision_score\"].append(precision)\n",
    "    return df"
   ]
  },
  {
   "cell_type": "code",
   "execution_count": 179,
   "id": "e9d93165",
   "metadata": {},
   "outputs": [],
   "source": [
    "data = performace(X_tfidf, y)"
   ]
  },
  {
   "cell_type": "code",
   "execution_count": 180,
   "id": "0880e250",
   "metadata": {},
   "outputs": [
    {
     "data": {
      "text/plain": [
       "{'Models': ['mnb', 'bnb', 'gnb', 'rf', 'svm'],\n",
       " 'accuracy_score': [0.9722580645161291,\n",
       "  0.9864516129032258,\n",
       "  0.8812903225806452,\n",
       "  0.9761290322580645,\n",
       "  0.9793548387096774],\n",
       " 'precision_score': [1.0,\n",
       "  0.9792746113989638,\n",
       "  0.534375,\n",
       "  0.9884393063583815,\n",
       "  0.9887640449438202]}"
      ]
     },
     "execution_count": 180,
     "metadata": {},
     "output_type": "execute_result"
    }
   ],
   "source": [
    "data"
   ]
  },
  {
   "cell_type": "code",
   "execution_count": 181,
   "id": "b0c1a5cc",
   "metadata": {},
   "outputs": [
    {
     "data": {
      "text/html": [
       "<div>\n",
       "<style scoped>\n",
       "    .dataframe tbody tr th:only-of-type {\n",
       "        vertical-align: middle;\n",
       "    }\n",
       "\n",
       "    .dataframe tbody tr th {\n",
       "        vertical-align: top;\n",
       "    }\n",
       "\n",
       "    .dataframe thead th {\n",
       "        text-align: right;\n",
       "    }\n",
       "</style>\n",
       "<table border=\"1\" class=\"dataframe\">\n",
       "  <thead>\n",
       "    <tr style=\"text-align: right;\">\n",
       "      <th></th>\n",
       "      <th>Models</th>\n",
       "      <th>accuracy_score</th>\n",
       "      <th>precision_score</th>\n",
       "    </tr>\n",
       "  </thead>\n",
       "  <tbody>\n",
       "    <tr>\n",
       "      <th>0</th>\n",
       "      <td>mnb</td>\n",
       "      <td>0.972258</td>\n",
       "      <td>1.000000</td>\n",
       "    </tr>\n",
       "    <tr>\n",
       "      <th>1</th>\n",
       "      <td>bnb</td>\n",
       "      <td>0.986452</td>\n",
       "      <td>0.979275</td>\n",
       "    </tr>\n",
       "    <tr>\n",
       "      <th>2</th>\n",
       "      <td>gnb</td>\n",
       "      <td>0.881290</td>\n",
       "      <td>0.534375</td>\n",
       "    </tr>\n",
       "    <tr>\n",
       "      <th>3</th>\n",
       "      <td>rf</td>\n",
       "      <td>0.976129</td>\n",
       "      <td>0.988439</td>\n",
       "    </tr>\n",
       "    <tr>\n",
       "      <th>4</th>\n",
       "      <td>svm</td>\n",
       "      <td>0.979355</td>\n",
       "      <td>0.988764</td>\n",
       "    </tr>\n",
       "  </tbody>\n",
       "</table>\n",
       "</div>"
      ],
      "text/plain": [
       "  Models  accuracy_score  precision_score\n",
       "0    mnb        0.972258         1.000000\n",
       "1    bnb        0.986452         0.979275\n",
       "2    gnb        0.881290         0.534375\n",
       "3     rf        0.976129         0.988439\n",
       "4    svm        0.979355         0.988764"
      ]
     },
     "execution_count": 181,
     "metadata": {},
     "output_type": "execute_result"
    }
   ],
   "source": [
    "pd.DataFrame(data)"
   ]
  },
  {
   "cell_type": "code",
   "execution_count": 182,
   "id": "e12cbb7f",
   "metadata": {},
   "outputs": [],
   "source": [
    "import pickle"
   ]
  },
  {
   "cell_type": "code",
   "execution_count": 185,
   "id": "53017db4",
   "metadata": {},
   "outputs": [],
   "source": [
    "pickle.dump(tfidf,open('vectorizer.pkl','wb'))"
   ]
  },
  {
   "cell_type": "code",
   "execution_count": 186,
   "id": "82c21e65",
   "metadata": {},
   "outputs": [],
   "source": [
    "pickle.dump(mnb, open('model.pkl','wb'))"
   ]
  },
  {
   "cell_type": "code",
   "execution_count": null,
   "id": "49ac467d",
   "metadata": {},
   "outputs": [],
   "source": []
  },
  {
   "cell_type": "code",
   "execution_count": null,
   "id": "b521ce0d",
   "metadata": {},
   "outputs": [],
   "source": []
  },
  {
   "cell_type": "code",
   "execution_count": null,
   "id": "c5886d4c",
   "metadata": {},
   "outputs": [],
   "source": []
  },
  {
   "cell_type": "code",
   "execution_count": null,
   "id": "150da5d7",
   "metadata": {},
   "outputs": [],
   "source": []
  },
  {
   "cell_type": "code",
   "execution_count": null,
   "id": "ec6fd4d2",
   "metadata": {},
   "outputs": [],
   "source": []
  },
  {
   "cell_type": "code",
   "execution_count": null,
   "id": "63a43947",
   "metadata": {},
   "outputs": [],
   "source": []
  },
  {
   "cell_type": "code",
   "execution_count": null,
   "id": "16cfaceb",
   "metadata": {},
   "outputs": [],
   "source": []
  }
 ],
 "metadata": {
  "kernelspec": {
   "display_name": "Python 3 (ipykernel)",
   "language": "python",
   "name": "python3"
  },
  "language_info": {
   "codemirror_mode": {
    "name": "ipython",
    "version": 3
   },
   "file_extension": ".py",
   "mimetype": "text/x-python",
   "name": "python",
   "nbconvert_exporter": "python",
   "pygments_lexer": "ipython3",
   "version": "3.11.7"
  }
 },
 "nbformat": 4,
 "nbformat_minor": 5
}
